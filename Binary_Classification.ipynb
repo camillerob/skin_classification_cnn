{
 "cells": [
  {
   "cell_type": "markdown",
   "id": "737c601e",
   "metadata": {},
   "source": [
    "# Final Project"
   ]
  },
  {
   "cell_type": "markdown",
   "id": "2c7eb378",
   "metadata": {},
   "source": [
    "## Binary Classification using a Covolutional Neural Network"
   ]
  },
  {
   "cell_type": "markdown",
   "id": "f75fa694",
   "metadata": {},
   "source": [
    "This binary image classification model utilizes two classes of both healthy skin and diseased skin in a diversity of skin tones in order to help combat the invisible bias contributing to misdiagnosis of skin disease in people of color."
   ]
  },
  {
   "cell_type": "markdown",
   "id": "451f4c51",
   "metadata": {},
   "source": [
    "### Data Preparation"
   ]
  },
  {
   "cell_type": "markdown",
   "id": "994b1801",
   "metadata": {},
   "source": [
    "Import dependencies"
   ]
  },
  {
   "cell_type": "code",
   "execution_count": 1,
   "id": "e3fc7d7a",
   "metadata": {},
   "outputs": [
    {
     "name": "stderr",
     "output_type": "stream",
     "text": [
      "2023-12-10 22:25:06.407137: I tensorflow/core/platform/cpu_feature_guard.cc:182] This TensorFlow binary is optimized to use available CPU instructions in performance-critical operations.\n",
      "To enable the following instructions: AVX2 FMA, in other operations, rebuild TensorFlow with the appropriate compiler flags.\n"
     ]
    }
   ],
   "source": [
    "import numpy as np\n",
    "import matplotlib.pyplot as plt\n",
    "from tensorflow.keras.layers import Input, Conv2D, Dense, Flatten, Dropout, MaxPool2D\n",
    "from tensorflow.keras.utils import to_categorical\n",
    "from tensorflow.keras.models import Model\n",
    "from glob import glob"
   ]
  },
  {
   "cell_type": "markdown",
   "id": "1f3acd0d",
   "metadata": {},
   "source": [
    "Assign the directory paths of the training and testing datasets to a variable"
   ]
  },
  {
   "cell_type": "code",
   "execution_count": 2,
   "id": "3d7fd0ef",
   "metadata": {},
   "outputs": [],
   "source": [
    "train_data_path = \"/Users/camille/Desktop/DTSC 3000/Final_Project/dataset/train\"\n",
    "test_data_path = \"/Users/camille/Desktop/DTSC 3000/Final_Project/dataset/test\""
   ]
  },
  {
   "cell_type": "markdown",
   "id": "1d295372",
   "metadata": {},
   "source": [
    "Use the global module to search through the directory paths"
   ]
  },
  {
   "cell_type": "code",
   "execution_count": 3,
   "id": "c8de1a64",
   "metadata": {},
   "outputs": [
    {
     "name": "stdout",
     "output_type": "stream",
     "text": [
      "Number of output classes is:  2\n"
     ]
    }
   ],
   "source": [
    "output_classes =  len(glob(train_data_path + '/*'))\n",
    "print(\"Number of output classes is: \", output_classes)"
   ]
  },
  {
   "cell_type": "markdown",
   "id": "a4115e41",
   "metadata": {},
   "source": [
    "Determine the number of images in each dataset"
   ]
  },
  {
   "cell_type": "code",
   "execution_count": 4,
   "id": "e90568e0",
   "metadata": {},
   "outputs": [
    {
     "name": "stdout",
     "output_type": "stream",
     "text": [
      "Number of images for training:  60\n",
      "Number of images for testing:  20\n"
     ]
    }
   ],
   "source": [
    "train_files = glob(train_data_path + '/*/*.jp*g')\n",
    "test_files = glob(test_data_path + '/*/*.jp*g')\n",
    "\n",
    "print(\"Number of images for training: \", len(train_files))\n",
    "print(\"Number of images for testing: \", len(test_files))"
   ]
  },
  {
   "cell_type": "markdown",
   "id": "ede6861e",
   "metadata": {},
   "source": [
    "### Using Image Generators"
   ]
  },
  {
   "cell_type": "markdown",
   "id": "79b07800",
   "metadata": {},
   "source": [
    "Import dependencies"
   ]
  },
  {
   "cell_type": "code",
   "execution_count": 5,
   "id": "b063b7c4",
   "metadata": {},
   "outputs": [],
   "source": [
    "from keras.preprocessing import image\n",
    "from keras.preprocessing.image import ImageDataGenerator"
   ]
  },
  {
   "cell_type": "markdown",
   "id": "178ddeac",
   "metadata": {},
   "source": [
    "Create two instances of the ImageDataGenerator class"
   ]
  },
  {
   "cell_type": "code",
   "execution_count": 6,
   "id": "4b1739dc",
   "metadata": {},
   "outputs": [],
   "source": [
    "train_data_generator = ImageDataGenerator(rescale = 1./255,\n",
    "                                          shear_range = 0.2,\n",
    "                                          zoom_range = 0.2,\n",
    "                                          horizontal_flip = True)\n",
    "\n",
    "test_data_generator = ImageDataGenerator(rescale = 1./255)"
   ]
  },
  {
   "cell_type": "markdown",
   "id": "39dfdebe",
   "metadata": {},
   "source": [
    "Use the flow_from_directory() function to read in the images from the training and testing datasets using their directory paths in order to generate augmented images while the CNN is learning"
   ]
  },
  {
   "cell_type": "code",
   "execution_count": 7,
   "id": "6856c8ff",
   "metadata": {},
   "outputs": [
    {
     "name": "stdout",
     "output_type": "stream",
     "text": [
      "Found 60 images belonging to 2 classes.\n",
      "Found 20 images belonging to 2 classes.\n"
     ]
    }
   ],
   "source": [
    "training_data = train_data_generator.flow_from_directory(train_data_path,\n",
    "                                                         target_size = (64, 64),\n",
    "                                                         batch_size = 16,\n",
    "                                                         class_mode = 'binary')\n",
    "\n",
    "test_data = test_data_generator.flow_from_directory(test_data_path,\n",
    "                                                    target_size = (64, 64),\n",
    "                                                    batch_size = 16,\n",
    "                                                    class_mode = 'binary')"
   ]
  },
  {
   "cell_type": "markdown",
   "id": "2ba196ae",
   "metadata": {},
   "source": [
    "### Developing the CNN Model"
   ]
  },
  {
   "cell_type": "markdown",
   "id": "e0cace87",
   "metadata": {},
   "source": [
    "Determine the layers that constitute the convolutional neural network"
   ]
  },
  {
   "cell_type": "code",
   "execution_count": 8,
   "id": "1889c2ce",
   "metadata": {},
   "outputs": [],
   "source": [
    "input_layer = Input(shape = (64, 64, 3))\n",
    "\n",
    "# Convolutional layer with 32 output feature maps, kernel size of 3x3, and ReLu activation function performed on the input layer\n",
    "conv1 = Conv2D(32, (3,3), strides = 2, activation= 'relu')(input_layer)\n",
    "# Pooling layer reporting the maximum output from each 2x2 neighborhood of the conv1 layer \n",
    "maxpool1 = MaxPool2D(pool_size = (2, 2))(conv1)\n",
    "\n",
    "# Convolutional layer with 64 output feature maps\n",
    "conv2 = Conv2D(64, (3,3), strides = 2, activation= 'relu')(maxpool1)\n",
    "# Pooling layer reporting the maximum output from each 2x2 neighborhood of the conv2 layer\n",
    "maxpool2 = MaxPool2D(pool_size = (2, 2))(conv2)\n",
    "\n",
    "# Flatten layer to convert array of feature maps to a single dimension vector\n",
    "flat1 = Flatten()(maxpool2)\n",
    "\n",
    "##### End of Convolution, Start of Neural Network #####\n",
    "\n",
    "# Densely connected layer in which all neurons are connected to each other with a ReLu activation function\n",
    "dense1 = Dense(256, activation = 'relu')(flat1)\n",
    "# Output layer using a sigmoid function to arrive at one of two outputs from the dense1 layer\n",
    "output_layer = Dense(1, activation= 'sigmoid')(dense1)\n",
    "\n",
    "model = Model(input_layer, output_layer)"
   ]
  },
  {
   "cell_type": "markdown",
   "id": "203ba2cb",
   "metadata": {},
   "source": [
    "Compile the layers of the model together using the adam optimizer algorithm, the binary cross entropy loss function for binary classification, and accuracy as the metric"
   ]
  },
  {
   "cell_type": "code",
   "execution_count": 9,
   "id": "aa75a9eb",
   "metadata": {},
   "outputs": [],
   "source": [
    "model.compile(optimizer = 'adam', loss= 'binary_crossentropy', metrics =['accuracy'])"
   ]
  },
  {
   "cell_type": "markdown",
   "id": "66d01bbc",
   "metadata": {},
   "source": [
    "### Training the Model"
   ]
  },
  {
   "cell_type": "code",
   "execution_count": 11,
   "id": "4fd1ac0d",
   "metadata": {
    "scrolled": true
   },
   "outputs": [
    {
     "name": "stdout",
     "output_type": "stream",
     "text": [
      "Epoch 1/20\n",
      "3/3 [==============================] - 1s 370ms/step - loss: 0.5485 - accuracy: 0.7333 - val_loss: 0.6912 - val_accuracy: 0.5500\n",
      "Epoch 2/20\n",
      "3/3 [==============================] - 1s 296ms/step - loss: 0.5384 - accuracy: 0.7000 - val_loss: 0.5939 - val_accuracy: 0.7500\n",
      "Epoch 3/20\n",
      "3/3 [==============================] - 1s 301ms/step - loss: 0.5040 - accuracy: 0.7333 - val_loss: 0.5648 - val_accuracy: 0.8000\n",
      "Epoch 4/20\n",
      "3/3 [==============================] - 1s 312ms/step - loss: 0.4775 - accuracy: 0.7667 - val_loss: 0.6062 - val_accuracy: 0.8000\n",
      "Epoch 5/20\n",
      "3/3 [==============================] - 1s 279ms/step - loss: 0.4829 - accuracy: 0.7833 - val_loss: 0.5612 - val_accuracy: 0.7000\n",
      "Epoch 6/20\n",
      "3/3 [==============================] - 1s 293ms/step - loss: 0.4667 - accuracy: 0.7667 - val_loss: 0.5525 - val_accuracy: 0.8000\n",
      "Epoch 7/20\n",
      "3/3 [==============================] - 1s 310ms/step - loss: 0.4136 - accuracy: 0.8167 - val_loss: 0.5126 - val_accuracy: 0.8000\n",
      "Epoch 8/20\n",
      "3/3 [==============================] - 1s 311ms/step - loss: 0.4151 - accuracy: 0.8667 - val_loss: 0.5316 - val_accuracy: 0.7500\n",
      "Epoch 9/20\n",
      "3/3 [==============================] - 1s 282ms/step - loss: 0.3614 - accuracy: 0.8500 - val_loss: 0.4954 - val_accuracy: 0.8000\n",
      "Epoch 10/20\n",
      "3/3 [==============================] - 1s 320ms/step - loss: 0.3515 - accuracy: 0.8667 - val_loss: 0.5161 - val_accuracy: 0.8000\n",
      "Epoch 11/20\n",
      "3/3 [==============================] - 1s 303ms/step - loss: 0.3462 - accuracy: 0.8833 - val_loss: 0.4640 - val_accuracy: 0.8000\n",
      "Epoch 12/20\n",
      "3/3 [==============================] - 1s 282ms/step - loss: 0.3006 - accuracy: 0.9000 - val_loss: 0.4509 - val_accuracy: 0.8000\n",
      "Epoch 13/20\n",
      "3/3 [==============================] - 1s 383ms/step - loss: 0.3053 - accuracy: 0.8667 - val_loss: 0.4396 - val_accuracy: 0.8000\n",
      "Epoch 14/20\n",
      "3/3 [==============================] - 1s 344ms/step - loss: 0.3913 - accuracy: 0.7833 - val_loss: 0.3863 - val_accuracy: 0.8000\n",
      "Epoch 15/20\n",
      "3/3 [==============================] - 1s 363ms/step - loss: 0.3523 - accuracy: 0.8333 - val_loss: 0.4638 - val_accuracy: 0.8000\n",
      "Epoch 16/20\n",
      "3/3 [==============================] - 1s 276ms/step - loss: 0.4716 - accuracy: 0.7667 - val_loss: 0.6928 - val_accuracy: 0.6500\n",
      "Epoch 17/20\n",
      "3/3 [==============================] - 1s 311ms/step - loss: 0.5592 - accuracy: 0.6833 - val_loss: 0.3951 - val_accuracy: 0.8500\n",
      "Epoch 18/20\n",
      "3/3 [==============================] - 1s 334ms/step - loss: 0.5351 - accuracy: 0.7167 - val_loss: 0.4526 - val_accuracy: 0.8000\n",
      "Epoch 19/20\n",
      "3/3 [==============================] - 1s 343ms/step - loss: 0.3622 - accuracy: 0.8667 - val_loss: 0.6214 - val_accuracy: 0.8000\n",
      "Epoch 20/20\n",
      "3/3 [==============================] - 1s 325ms/step - loss: 0.3979 - accuracy: 0.8333 - val_loss: 0.5595 - val_accuracy: 0.9000\n"
     ]
    }
   ],
   "source": [
    "# Determine the steps_per_epoch and validation_steps based on the number of times the ImageDataGenerator takes in images from directory\n",
    "spe = len(train_files)/16\n",
    "vs = len(test_files)/16\n",
    "\n",
    "# Train the CNN model\n",
    "model_history = model.fit(training_data, steps_per_epoch = spe ,  epochs=20, validation_data = test_data,  validation_steps = vs, verbose=1)"
   ]
  },
  {
   "cell_type": "markdown",
   "id": "9a3eb102",
   "metadata": {},
   "source": [
    "The test accuracy peaks at 0.9 in the twefth epoch, then vacillates between higher and lower values. The test accuracy stagnates at 0.8 before reaching 0.9 in the last epoch."
   ]
  },
  {
   "cell_type": "markdown",
   "id": "a7d00122",
   "metadata": {},
   "source": [
    "### Plotting Model Metrics"
   ]
  },
  {
   "cell_type": "markdown",
   "id": "2ffb8fb0",
   "metadata": {},
   "source": [
    "Plot training accuracy against test accuracy"
   ]
  },
  {
   "cell_type": "code",
   "execution_count": 12,
   "id": "def2e772",
   "metadata": {},
   "outputs": [
    {
     "data": {
      "text/plain": [
       "<matplotlib.legend.Legend at 0x7f85532c24c0>"
      ]
     },
     "execution_count": 12,
     "metadata": {},
     "output_type": "execute_result"
    },
    {
     "data": {
      "image/png": "[encoded data removed]",
      "text/plain": [
       "<Figure size 432x288 with 1 Axes>"
      ]
     },
     "metadata": {
      "needs_background": "light"
     },
     "output_type": "display_data"
    }
   ],
   "source": [
    "plt.plot(model_history.history['accuracy'], label = 'accuracy')\n",
    "plt.plot(model_history.history['val_accuracy'], label = 'val_accuracy')\n",
    "plt.legend(['train','test'], loc='lower left')"
   ]
  },
  {
   "cell_type": "markdown",
   "id": "0ac253f5",
   "metadata": {},
   "source": [
    "Plot training loss against test loss"
   ]
  },
  {
   "cell_type": "code",
   "execution_count": 13,
   "id": "35f719b0",
   "metadata": {},
   "outputs": [
    {
     "data": {
      "text/plain": [
       "<matplotlib.legend.Legend at 0x7f85531c8d00>"
      ]
     },
     "execution_count": 13,
     "metadata": {},
     "output_type": "execute_result"
    },
    {
     "data": {
      "image/png": "[encoded data removed]",
      "text/plain": [
       "<Figure size 432x288 with 1 Axes>"
      ]
     },
     "metadata": {
      "needs_background": "light"
     },
     "output_type": "display_data"
    }
   ],
   "source": [
    "plt.plot(model_history.history['loss'], label = 'loss')\n",
    "plt.plot(model_history.history['val_loss'], label = 'val_loss')\n",
    "plt.legend(['train','test'], loc='upper left')"
   ]
  },
  {
   "cell_type": "markdown",
   "id": "8b9306f7",
   "metadata": {},
   "source": [
    "### Model Evaluation"
   ]
  },
  {
   "cell_type": "markdown",
   "id": "5f22bc8f",
   "metadata": {},
   "source": [
    "Input the test data and measure the subsequent accuracy and loss as the metrics"
   ]
  },
  {
   "cell_type": "code",
   "execution_count": 14,
   "id": "f079ccff",
   "metadata": {},
   "outputs": [
    {
     "name": "stdout",
     "output_type": "stream",
     "text": [
      "Test loss: 0.5594646334648132\n",
      "Test accuracy: 0.8999999761581421\n"
     ]
    }
   ],
   "source": [
    "score = model.evaluate(test_data, verbose=0)\n",
    "print('Test loss:', score[0])\n",
    "print('Test accuracy:', score[1])"
   ]
  }
 ],
 "metadata": {
  "kernelspec": {
   "display_name": "firstEnv",
   "language": "python",
   "name": "firstenv"
  },
  "language_info": {
   "codemirror_mode": {
    "name": "ipython",
    "version": 3
   },
   "file_extension": ".py",
   "mimetype": "text/x-python",
   "name": "python",
   "nbconvert_exporter": "python",
   "pygments_lexer": "ipython3",
   "version": "3.9.18"
  }
 },
 "nbformat": 4,
 "nbformat_minor": 5
}
